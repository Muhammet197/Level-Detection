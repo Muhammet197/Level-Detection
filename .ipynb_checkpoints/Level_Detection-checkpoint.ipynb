{
 "cells": [
  {
   "cell_type": "markdown",
   "id": "fde6d4bb-f943-4c34-98cc-58c6970f90f0",
   "metadata": {
    "jp-MarkdownHeadingCollapsed": true
   },
   "source": [
    "### 1"
   ]
  },
  {
   "cell_type": "code",
   "execution_count": null,
   "id": "dc013465-4f22-441f-b4ce-016b7fd7bcce",
   "metadata": {},
   "outputs": [],
   "source": [
    "print(\"Merhaba Dünya\")"
   ]
  },
  {
   "cell_type": "markdown",
   "id": "a4417e71-1f37-411c-ae22-b55170279cf7",
   "metadata": {
    "jp-MarkdownHeadingCollapsed": true
   },
   "source": [
    "### 2"
   ]
  },
  {
   "cell_type": "code",
   "execution_count": null,
   "id": "70348106-519d-4159-9e57-8dc9cee854ff",
   "metadata": {},
   "outputs": [],
   "source": [
    "print(2 + 3 * 4)"
   ]
  },
  {
   "cell_type": "markdown",
   "id": "2a6ab4c8-a251-48eb-81a7-363a24332e70",
   "metadata": {
    "jp-MarkdownHeadingCollapsed": true
   },
   "source": [
    "### 3"
   ]
  },
  {
   "cell_type": "code",
   "execution_count": 4,
   "id": "9db8cc6d-e41c-4ec3-86d1-70c8398d6654",
   "metadata": {},
   "outputs": [
    {
     "name": "stdout",
     "output_type": "stream",
     "text": [
      "10\n"
     ]
    }
   ],
   "source": [
    "x = 5 \n",
    "print(2*x)"
   ]
  },
  {
   "cell_type": "markdown",
   "id": "275e4bf5-95c4-4249-9806-06c1d2c61aef",
   "metadata": {
    "jp-MarkdownHeadingCollapsed": true
   },
   "source": [
    "### 4"
   ]
  },
  {
   "cell_type": "code",
   "execution_count": 5,
   "id": "30c4c270-287d-4090-a5e9-db5d791ff2ce",
   "metadata": {},
   "outputs": [
    {
     "name": "stdout",
     "output_type": "stream",
     "text": [
      "6\n"
     ]
    }
   ],
   "source": [
    "my_list = [4,5,6,7]\n",
    "print(my_list[2])"
   ]
  },
  {
   "cell_type": "markdown",
   "id": "24fd8df7-4ca3-4551-83bf-050bd8ed4ed6",
   "metadata": {
    "jp-MarkdownHeadingCollapsed": true
   },
   "source": [
    "### 5"
   ]
  },
  {
   "cell_type": "code",
   "execution_count": 7,
   "id": "778f268f-bef5-480b-a951-4f5496f6ef6e",
   "metadata": {},
   "outputs": [
    {
     "name": "stdout",
     "output_type": "stream",
     "text": [
      "6\n"
     ]
    }
   ],
   "source": [
    "word = \"Python\"\n",
    "print(len(word))"
   ]
  },
  {
   "cell_type": "markdown",
   "id": "3c43aabe-0a3c-44d8-941e-22c65815cd4e",
   "metadata": {
    "jp-MarkdownHeadingCollapsed": true
   },
   "source": [
    "### 6"
   ]
  },
  {
   "cell_type": "code",
   "execution_count": null,
   "id": "bbfd3d69-cf8f-4521-8f0a-e6cfa7053270",
   "metadata": {},
   "outputs": [],
   "source": [
    "word = \"Python\"\n",
    "print(word.upper())"
   ]
  },
  {
   "cell_type": "markdown",
   "id": "9214d54a-f4f9-4258-aa94-4ca3155b7d2d",
   "metadata": {
    "jp-MarkdownHeadingCollapsed": true
   },
   "source": [
    "### 7"
   ]
  },
  {
   "cell_type": "code",
   "execution_count": 6,
   "id": "de7e5e2b-53b7-41b1-913f-9344d522b365",
   "metadata": {},
   "outputs": [
    {
     "name": "stdout",
     "output_type": "stream",
     "text": [
      "7\n"
     ]
    }
   ],
   "source": [
    "def aggregation(a,b):\n",
    "    return a+b\n",
    "print(aggregation(3,4))"
   ]
  },
  {
   "cell_type": "markdown",
   "id": "6ba0058a-e61e-44a6-84b1-559b40736d8c",
   "metadata": {
    "jp-MarkdownHeadingCollapsed": true
   },
   "source": [
    "### 8"
   ]
  },
  {
   "cell_type": "code",
   "execution_count": 8,
   "id": "aa55dcfe-d015-4f62-8b94-a21b22e2ca81",
   "metadata": {},
   "outputs": [
    {
     "name": "stdout",
     "output_type": "stream",
     "text": [
      "1\n",
      "2\n",
      "3\n",
      "4\n",
      "5\n",
      "6\n",
      "7\n",
      "8\n",
      "9\n",
      "10\n"
     ]
    }
   ],
   "source": [
    "n = 0\n",
    "while n<10:\n",
    "    n += 1\n",
    "    print(n)"
   ]
  },
  {
   "cell_type": "markdown",
   "id": "62f470e0-6c14-4899-a2b1-0d6c958cb7d0",
   "metadata": {
    "jp-MarkdownHeadingCollapsed": true
   },
   "source": [
    "### 9"
   ]
  },
  {
   "cell_type": "code",
   "execution_count": 10,
   "id": "bf2cc676-22b0-4bf4-b49e-8a8566bfc4b4",
   "metadata": {},
   "outputs": [
    {
     "name": "stdout",
     "output_type": "stream",
     "text": [
      "10 is equal 10\n"
     ]
    }
   ],
   "source": [
    "a = 10\n",
    "if a < 10:\n",
    "    print(a,\"is less than 10\")\n",
    "elif a > 10:\n",
    "    print(a,\"is greater than 10\")\n",
    "else:\n",
    "    print(a,\"is equal 10\")"
   ]
  },
  {
   "cell_type": "markdown",
   "id": "81aff451-c119-4253-8c9b-b1b845f10161",
   "metadata": {
    "jp-MarkdownHeadingCollapsed": true
   },
   "source": [
    "### 10"
   ]
  },
  {
   "cell_type": "code",
   "execution_count": 9,
   "id": "c122b8b9-b27e-4277-8bad-3504546dc3c1",
   "metadata": {},
   "outputs": [
    {
     "name": "stdout",
     "output_type": "stream",
     "text": [
      "1\n",
      "3\n",
      "5\n",
      "7\n",
      "9\n",
      "11\n",
      "13\n",
      "15\n",
      "17\n",
      "19\n",
      "21\n",
      "23\n",
      "25\n",
      "27\n",
      "29\n",
      "31\n",
      "33\n",
      "35\n",
      "37\n",
      "39\n",
      "41\n",
      "43\n",
      "45\n",
      "47\n",
      "49\n",
      "51\n",
      "53\n",
      "55\n",
      "57\n",
      "59\n",
      "61\n",
      "63\n",
      "65\n",
      "67\n",
      "69\n",
      "71\n",
      "73\n",
      "75\n",
      "77\n",
      "79\n",
      "81\n",
      "83\n",
      "85\n",
      "87\n",
      "89\n",
      "91\n",
      "93\n",
      "95\n",
      "97\n"
     ]
    }
   ],
   "source": [
    "for i in range(99):\n",
    "    if i%2==1:\n",
    "        print(i)"
   ]
  },
  {
   "cell_type": "markdown",
   "id": "45fe3620-9550-4090-9dd6-f3fadec658aa",
   "metadata": {
    "jp-MarkdownHeadingCollapsed": true
   },
   "source": [
    "### 11"
   ]
  },
  {
   "cell_type": "code",
   "execution_count": 11,
   "id": "67c0ea1f-0746-44db-9d81-0775691b2e9c",
   "metadata": {},
   "outputs": [
    {
     "name": "stdout",
     "output_type": "stream",
     "text": [
      "100 10\n"
     ]
    }
   ],
   "source": [
    "def globalFunction():\n",
    "    global a\n",
    "    a = 100\n",
    "    b = 50\n",
    "a = 45\n",
    "b = 10\n",
    "globalFunction()\n",
    "print(a,b)"
   ]
  },
  {
   "cell_type": "markdown",
   "id": "80852111-12df-41cc-9c48-666769a9c93c",
   "metadata": {
    "jp-MarkdownHeadingCollapsed": true
   },
   "source": [
    "### 12"
   ]
  },
  {
   "cell_type": "code",
   "execution_count": 19,
   "id": "a0dc291e-325c-4fff-9f68-058aa4ad1895",
   "metadata": {},
   "outputs": [],
   "source": [
    "my_cutomer_list = [] \n",
    "class Customer:\n",
    "    def __init__(self,name,surname,phone):\n",
    "        self.name = name\n",
    "        self.surname = surname\n",
    "        self.phone = phone \n",
    "        \n",
    "    def insertCustomer(self):\n",
    "        my_cutomer_list.append({\"Name\":self.name,\"Surname\":self.surname,\"Phone\":self.phone})\n",
    "        print(\"Insertion has been completed\")\n",
    "        "
   ]
  },
  {
   "cell_type": "code",
   "execution_count": 20,
   "id": "327817cd-394a-4daa-8a44-5639e98c621a",
   "metadata": {},
   "outputs": [
    {
     "name": "stdout",
     "output_type": "stream",
     "text": [
      "Insertion has been completed\n"
     ]
    }
   ],
   "source": [
    "Customer(\"Mehmet\",\"Yılmaz\",\"555 444 33 22\").insertCustomer()"
   ]
  },
  {
   "cell_type": "code",
   "execution_count": null,
   "id": "05247936-c2d3-4612-9aa2-d8d025169f07",
   "metadata": {},
   "outputs": [],
   "source": []
  }
 ],
 "metadata": {
  "kernelspec": {
   "display_name": "Python 3 (ipykernel)",
   "language": "python",
   "name": "python3"
  },
  "language_info": {
   "codemirror_mode": {
    "name": "ipython",
    "version": 3
   },
   "file_extension": ".py",
   "mimetype": "text/x-python",
   "name": "python",
   "nbconvert_exporter": "python",
   "pygments_lexer": "ipython3",
   "version": "3.11.7"
  }
 },
 "nbformat": 4,
 "nbformat_minor": 5
}
