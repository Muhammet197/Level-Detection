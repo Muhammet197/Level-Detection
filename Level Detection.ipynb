{
 "cells": [
  {
   "cell_type": "code",
   "execution_count": 1,
   "id": "6941666f-466b-417d-bdba-e08ebe97fbcb",
   "metadata": {},
   "outputs": [
    {
     "name": "stdout",
     "output_type": "stream",
     "text": [
      "Soru 1:\n",
      "print('Merhaba, Dünya!')\n"
     ]
    },
    {
     "name": "stdin",
     "output_type": "stream",
     "text": [
      "Bu kodun çıktısı ne olur?  Merhaba, Dünya!\n"
     ]
    },
    {
     "name": "stdout",
     "output_type": "stream",
     "text": [
      "Soru 2:\n",
      "print(2 + 3 * 4)\n"
     ]
    },
    {
     "name": "stdin",
     "output_type": "stream",
     "text": [
      "Bu kodun çıktısı ne olur?  14\n"
     ]
    },
    {
     "name": "stdout",
     "output_type": "stream",
     "text": [
      "Soru 3:\n",
      "x = 5\n",
      "print(x * 2)\n"
     ]
    },
    {
     "name": "stdin",
     "output_type": "stream",
     "text": [
      "Bu kodun çıktısı ne olur?  10\n"
     ]
    },
    {
     "name": "stdout",
     "output_type": "stream",
     "text": [
      "Soru 4:\n",
      "print(len('Python'))\n"
     ]
    },
    {
     "name": "stdin",
     "output_type": "stream",
     "text": [
      "Bu kodun çıktısı ne olur?  6\n"
     ]
    },
    {
     "name": "stdout",
     "output_type": "stream",
     "text": [
      "Soru 5:\n",
      "def topla(a, b):\n",
      "    return a + b\n",
      "print(topla(3, 4))\n"
     ]
    },
    {
     "name": "stdin",
     "output_type": "stream",
     "text": [
      "Bu kodun çıktısı ne olur?  7\n"
     ]
    },
    {
     "name": "stdout",
     "output_type": "stream",
     "text": [
      "Soru 6:\n",
      "liste = [1, 2, 3, 4]\n",
      "print(liste[2])\n"
     ]
    },
    {
     "name": "stdin",
     "output_type": "stream",
     "text": [
      "Bu kodun çıktısı ne olur?  3\n"
     ]
    },
    {
     "name": "stdout",
     "output_type": "stream",
     "text": [
      "Soru 7:\n",
      "s = 'Python'\n",
      "print(s.upper())\n"
     ]
    },
    {
     "name": "stdin",
     "output_type": "stream",
     "text": [
      "Bu kodun çıktısı ne olur?  PYTHON\n"
     ]
    },
    {
     "name": "stdout",
     "output_type": "stream",
     "text": [
      "Soru 8:\n",
      "d = {'a': 1, 'b': 2}\n",
      "print(d['b'])\n"
     ]
    },
    {
     "name": "stdin",
     "output_type": "stream",
     "text": [
      "Bu kodun çıktısı ne olur?  2\n"
     ]
    },
    {
     "name": "stdout",
     "output_type": "stream",
     "text": [
      "Soru 9:\n",
      "for i in range(3):\n",
      "    print(i)\n"
     ]
    },
    {
     "name": "stdin",
     "output_type": "stream",
     "text": [
      "Bu kodun çıktısı ne olur?  0 1\n"
     ]
    },
    {
     "name": "stdout",
     "output_type": "stream",
     "text": [
      "Soru 10:\n",
      "if 5 > 3:\n",
      "    print('Evet')\n"
     ]
    },
    {
     "name": "stdin",
     "output_type": "stream",
     "text": [
      "Bu kodun çıktısı ne olur?  Evet\n"
     ]
    },
    {
     "name": "stdout",
     "output_type": "stream",
     "text": [
      "Doğru Sayısı: 9\n",
      "Seviye: İleri\n"
     ]
    }
   ],
   "source": [
    "def main():\n",
    "    # Sorular ve doğru cevaplar\n",
    "    sorular = [\n",
    "        {\"soru\": \"print('Merhaba, Dünya!')\", \"cevap\": \"Merhaba, Dünya!\"},\n",
    "        {\"soru\": \"print(2 + 3 * 4)\", \"cevap\": \"14\"},\n",
    "        {\"soru\": \"x = 5\\nprint(x * 2)\", \"cevap\": \"10\"},\n",
    "        {\"soru\": \"print(len('Python'))\", \"cevap\": \"6\"},\n",
    "        {\"soru\": \"def topla(a, b):\\n    return a + b\\nprint(topla(3, 4))\", \"cevap\": \"7\"},\n",
    "        {\"soru\": \"liste = [1, 2, 3, 4]\\nprint(liste[2])\", \"cevap\": \"3\"},\n",
    "        {\"soru\": \"s = 'Python'\\nprint(s.upper())\", \"cevap\": \"PYTHON\"},\n",
    "        {\"soru\": \"d = {'a': 1, 'b': 2}\\nprint(d['b'])\", \"cevap\": \"2\"},\n",
    "        {\"soru\": \"for i in range(3):\\n    print(i)\", \"cevap\": \"0\\n1\\n2\"},\n",
    "        {\"soru\": \"if 5 > 3:\\n    print('Evet')\", \"cevap\": \"Evet\"}\n",
    "    ]\n",
    "\n",
    "    dogru_sayisi = 0\n",
    "\n",
    "    # Soruları sorma\n",
    "    for i, soru in enumerate(sorular):\n",
    "        print(f\"Soru {i + 1}:\\n{soru['soru']}\")\n",
    "        cevap = input(\"Bu kodun çıktısı ne olur? \")\n",
    "        if cevap == soru['cevap']:\n",
    "            dogru_sayisi += 1\n",
    "\n",
    "    # Seviyeyi belirleme\n",
    "    if dogru_sayisi <= 3:\n",
    "        seviye = \"Başlangıç\"\n",
    "    elif 4 <= dogru_sayisi <= 7:\n",
    "        seviye = \"Orta\"\n",
    "    else:\n",
    "        seviye = \"İleri\"\n",
    "\n",
    "    print(f\"Doğru Sayısı: {dogru_sayisi}\")\n",
    "    print(f\"Seviye: {seviye}\")\n",
    "\n",
    "if __name__ == \"__main__\":\n",
    "    main()\n"
   ]
  },
  {
   "cell_type": "code",
   "execution_count": null,
   "id": "7c364b52-a8de-4f1d-a9f5-e1b978477c3a",
   "metadata": {},
   "outputs": [],
   "source": []
  }
 ],
 "metadata": {
  "kernelspec": {
   "display_name": "Python 3 (ipykernel)",
   "language": "python",
   "name": "python3"
  },
  "language_info": {
   "codemirror_mode": {
    "name": "ipython",
    "version": 3
   },
   "file_extension": ".py",
   "mimetype": "text/x-python",
   "name": "python",
   "nbconvert_exporter": "python",
   "pygments_lexer": "ipython3",
   "version": "3.11.7"
  }
 },
 "nbformat": 4,
 "nbformat_minor": 5
}
